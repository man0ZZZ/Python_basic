{
  "nbformat": 4,
  "nbformat_minor": 0,
  "metadata": {
    "colab": {
      "provenance": [],
      "authorship_tag": "ABX9TyO5AZFcpA2a2xutUqK3MmxN",
      "include_colab_link": true
    },
    "kernelspec": {
      "name": "python3",
      "display_name": "Python 3"
    },
    "language_info": {
      "name": "python"
    }
  },
  "cells": [
    {
      "cell_type": "markdown",
      "metadata": {
        "id": "view-in-github",
        "colab_type": "text"
      },
      "source": [
        "<a href=\"https://colab.research.google.com/github/man0ZZZ/Python_errands/blob/main/RockPaperScissor.ipynb\" target=\"_parent\"><img src=\"https://colab.research.google.com/assets/colab-badge.svg\" alt=\"Open In Colab\"/></a>"
      ]
    },
    {
      "cell_type": "code",
      "execution_count": null,
      "metadata": {
        "id": "IkHDnGXsiUFf"
      },
      "outputs": [],
      "source": [
        "###rock scissor paper\n",
        "# between computer and user\n",
        "# rock, paper , sci.... \n",
        "# if input varies ask user again for correct input\n",
        "# game goes on until user wins\n",
        "# scior < rock\n",
        "# rock < paper\n",
        "# paper < sciorz=0\n",
        "while z<1:\n",
        "  import random\n",
        "  input_lst=[0,1,2]\n",
        "  comp_option=['rock','paper','scissor']\n",
        "  comp_num=random.choice(input_lst)\n",
        "  comp=comp_option[(comp_num)]\n",
        "  user=input(\"What you want to choose \")\n",
        "  option=['rock','paper','scissor']\n",
        "  for i in option:\n",
        "    if user=='rock' or user=='paper' or user=='scissor':\n",
        "      continue\n",
        "    else:\n",
        "      user=input(\"Enter correct input 'rock' or 'paper' or 'scissor'\")\n",
        "  print('user', user)\n",
        "  print('comp', comp)\n",
        "\n",
        "  if user=='rock' and comp=='scissor':\n",
        "    z=1\n",
        "    print(\"WIN\")\n",
        "  elif user=='paper' and comp=='rock':\n",
        "    z=1\n",
        "    print(\"WIN\")\n",
        "  elif user=='scissor' and comp=='paper':\n",
        "    z=1\n",
        "    print(\"WIN\")\n",
        "  else:\n",
        "    z=0\n",
        "    print(\"TRY AGAIN\")\n"
      ]
    }
  ]
}